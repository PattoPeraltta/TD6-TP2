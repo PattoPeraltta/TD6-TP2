{
 "cells": [
  {
   "cell_type": "code",
   "execution_count": 1,
   "id": "37f7fff2",
   "metadata": {},
   "outputs": [],
   "source": [
    "%load_ext autoreload\n",
    "%autoreload 2"
   ]
  },
  {
   "cell_type": "code",
   "execution_count": 4,
   "id": "ff80fe26",
   "metadata": {},
   "outputs": [],
   "source": [
    "import pandas as pd\n",
    "import numpy as np\n",
    "from recent_data_model import *\n",
    "\n",
    "df = pd.read_csv('train_data_cleaned.csv')\n",
    "df = df.drop(columns=['master_metadata_track_name', 'master_metadata_album_artist_name', 'master_metadata_album_album_name', \n",
    "                    'episode_name', 'episode_show_name', 'offline_timestamp', 'obs_id', 'artist_uri'], axis=1)"
   ]
  },
  {
   "cell_type": "code",
   "execution_count": 5,
   "id": "8559eb3d",
   "metadata": {},
   "outputs": [],
   "source": [
    "# Convert all columns to numeric\n",
    "for col in df.columns:\n",
    "    if df[col].dtype == 'object':\n",
    "        df[col] = pd.to_numeric(df[col], errors='coerce')"
   ]
  },
  {
   "cell_type": "code",
   "execution_count": 6,
   "id": "ae20403a",
   "metadata": {},
   "outputs": [],
   "source": [
    "X_train = df.iloc[:, :-1]\n",
    "y_train = df.iloc[:, -1]"
   ]
  },
  {
   "cell_type": "code",
   "execution_count": 7,
   "id": "e83e8bcd",
   "metadata": {},
   "outputs": [
    {
     "name": "stdout",
     "output_type": "stream",
     "text": [
      "entrenando modelo xgboost optimizado...\n",
      "auc en validación: 0.8138\n",
      "predicciones en validación:\n",
      "  min: 0.0032, max: 0.9539, mean: 0.2018\n",
      "  > 0.5: 14558, > 0.3: 41566, > 0.1: 115623\n"
     ]
    }
   ],
   "source": [
    "model = entrenar_xgboost_optimizado(X_train, y_train)"
   ]
  }
 ],
 "metadata": {
  "kernelspec": {
   "display_name": "venv",
   "language": "python",
   "name": "python3"
  },
  "language_info": {
   "codemirror_mode": {
    "name": "ipython",
    "version": 3
   },
   "file_extension": ".py",
   "mimetype": "text/x-python",
   "name": "python",
   "nbconvert_exporter": "python",
   "pygments_lexer": "ipython3",
   "version": "3.13.5"
  }
 },
 "nbformat": 4,
 "nbformat_minor": 5
}
