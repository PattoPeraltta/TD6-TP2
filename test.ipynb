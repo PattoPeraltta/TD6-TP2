{
 "cells": [
  {
   "cell_type": "code",
   "execution_count": 36,
   "id": "37f7fff2",
   "metadata": {},
   "outputs": [
    {
     "name": "stdout",
     "output_type": "stream",
     "text": [
      "The autoreload extension is already loaded. To reload it, use:\n",
      "  %reload_ext autoreload\n"
     ]
    }
   ],
   "source": [
    "%load_ext autoreload\n",
    "%autoreload 2"
   ]
  },
  {
   "cell_type": "code",
   "execution_count": 37,
   "id": "ff80fe26",
   "metadata": {},
   "outputs": [],
   "source": [
    "import pandas as pd\n",
    "import numpy as np\n",
    "from recent_data_model import *\n",
    "\n",
    "df_train = pd.read_csv('train_data_cleaned.csv')\n",
    "df_train = df_train.drop(columns=['master_metadata_track_name', 'master_metadata_album_artist_name', 'master_metadata_album_album_name', \n",
    "                    'episode_name', 'episode_show_name', 'offline_timestamp', 'artist_uri'], axis=1)\n",
    "df_test = pd.read_csv('test_data_cleaned.csv')\n",
    "df_test = df_test.drop(columns=['master_metadata_track_name', 'master_metadata_album_artist_name', 'master_metadata_album_album_name', \n",
    "                    'episode_name', 'episode_show_name', 'offline_timestamp', 'artist_uri'], axis=1)\n"
   ]
  },
  {
   "cell_type": "code",
   "execution_count": 38,
   "id": "8559eb3d",
   "metadata": {},
   "outputs": [],
   "source": [
    "# Convert all columns to numeric\n",
    "for col in df_train.columns:\n",
    "    if df_train[col].dtype == 'object':\n",
    "        df_train[col] = pd.to_numeric(df_train[col], errors='coerce')\n",
    "\n",
    "for col in df_test.columns:\n",
    "    if df_test[col].dtype == 'object':\n",
    "        df_test[col] = pd.to_numeric(df_test[col], errors='coerce')"
   ]
  },
  {
   "cell_type": "code",
   "execution_count": 39,
   "id": "ae20403a",
   "metadata": {},
   "outputs": [],
   "source": [
    "X_train = df_train.iloc[:, :-1]\n",
    "y_train = df_train.iloc[:, -1]\n",
    "X_test = df_test\n",
    "obs_ids = df_test['obs_id']"
   ]
  },
  {
   "cell_type": "code",
   "execution_count": 40,
   "id": "e83e8bcd",
   "metadata": {},
   "outputs": [
    {
     "name": "stdout",
     "output_type": "stream",
     "text": [
      "entrenando modelo xgboost optimizado...\n",
      "auc en validación: 0.8243\n",
      "predicciones en validación:\n",
      "  min: 0.0027, max: 0.9619, mean: 0.2018\n",
      "  > 0.5: 15373, > 0.3: 41394, > 0.1: 113773\n"
     ]
    }
   ],
   "source": [
    "model = entrenar_xgboost_optimizado(X_train, y_train)"
   ]
  },
  {
   "cell_type": "code",
   "execution_count": 47,
   "id": "749ffb12",
   "metadata": {},
   "outputs": [
    {
     "name": "stdout",
     "output_type": "stream",
     "text": [
      "generando predicciones...\n",
      "estadísticas de predicciones:\n",
      "  min: 0.0036, max: 0.8942, mean: 0.1653\n",
      "  > 0.5: 2442, > 0.3: 10450, > 0.1: 24964\n",
      "submission guardada: 51570 predicciones en submission_202001_to_202412.csv\n"
     ]
    }
   ],
   "source": [
    "YEAR_FROM = 2020    # año de inicio\n",
    "MONTH_FROM = 1      # mes de inicio (1-12)\n",
    "YEAR_TO = 2024      # año de fin\n",
    "MONTH_TO = 12       # mes de fin (1-12)\n",
    "\n",
    "predictions = generar_predicciones(\n",
    "    model, X_test, obs_ids, YEAR_FROM, MONTH_FROM, YEAR_TO, MONTH_TO\n",
    ")\n",
    "\n",
    "submission = pd.DataFrame(predictions)"
   ]
  },
  {
   "cell_type": "code",
   "execution_count": 46,
   "id": "bc253f57",
   "metadata": {},
   "outputs": [
    {
     "data": {
      "text/html": [
       "<div>\n",
       "<style scoped>\n",
       "    .dataframe tbody tr th:only-of-type {\n",
       "        vertical-align: middle;\n",
       "    }\n",
       "\n",
       "    .dataframe tbody tr th {\n",
       "        vertical-align: top;\n",
       "    }\n",
       "\n",
       "    .dataframe thead th {\n",
       "        text-align: right;\n",
       "    }\n",
       "</style>\n",
       "<table border=\"1\" class=\"dataframe\">\n",
       "  <thead>\n",
       "    <tr style=\"text-align: right;\">\n",
       "      <th></th>\n",
       "      <th>obs_id</th>\n",
       "      <th>target</th>\n",
       "    </tr>\n",
       "  </thead>\n",
       "  <tbody>\n",
       "    <tr>\n",
       "      <th>0</th>\n",
       "      <td>911345</td>\n",
       "      <td>0.432275</td>\n",
       "    </tr>\n",
       "    <tr>\n",
       "      <th>1</th>\n",
       "      <td>911346</td>\n",
       "      <td>0.192171</td>\n",
       "    </tr>\n",
       "    <tr>\n",
       "      <th>2</th>\n",
       "      <td>911347</td>\n",
       "      <td>0.192171</td>\n",
       "    </tr>\n",
       "    <tr>\n",
       "      <th>3</th>\n",
       "      <td>911348</td>\n",
       "      <td>0.169244</td>\n",
       "    </tr>\n",
       "    <tr>\n",
       "      <th>4</th>\n",
       "      <td>911349</td>\n",
       "      <td>0.088262</td>\n",
       "    </tr>\n",
       "  </tbody>\n",
       "</table>\n",
       "</div>"
      ],
      "text/plain": [
       "   obs_id    target\n",
       "0  911345  0.432275\n",
       "1  911346  0.192171\n",
       "2  911347  0.192171\n",
       "3  911348  0.169244\n",
       "4  911349  0.088262"
      ]
     },
     "execution_count": 46,
     "metadata": {},
     "output_type": "execute_result"
    }
   ],
   "source": [
    "predictions.head()"
   ]
  }
 ],
 "metadata": {
  "kernelspec": {
   "display_name": "venv",
   "language": "python",
   "name": "python3"
  },
  "language_info": {
   "codemirror_mode": {
    "name": "ipython",
    "version": 3
   },
   "file_extension": ".py",
   "mimetype": "text/x-python",
   "name": "python",
   "nbconvert_exporter": "python",
   "pygments_lexer": "ipython3",
   "version": "3.13.5"
  }
 },
 "nbformat": 4,
 "nbformat_minor": 5
}
